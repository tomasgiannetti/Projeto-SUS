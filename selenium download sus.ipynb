{
 "cells": [
  {
   "cell_type": "code",
   "execution_count": 4,
   "id": "e130ff13",
   "metadata": {
    "ExecuteTime": {
     "end_time": "2022-12-12T18:07:22.834275Z",
     "start_time": "2022-12-12T18:07:17.847095Z"
    }
   },
   "outputs": [
    {
     "data": {
      "text/plain": [
       "'https://datasus.saude.gov.br/transferencia-de-arquivos/'"
      ]
     },
     "execution_count": 4,
     "metadata": {},
     "output_type": "execute_result"
    }
   ],
   "source": [
    "import pandas as pd\n",
    "from selenium import webdriver\n",
    "from selenium.webdriver.chrome.service import Service\n",
    "from webdriver_manager.chrome import ChromeDriverManager\n",
    "from webdriver_manager.firefox import GeckoDriverManager\n",
    "from selenium.webdriver.common.by import By\n",
    "from selenium.webdriver.common.keys import Keys\n",
    "from selenium.webdriver.common.action_chains import ActionChains\n",
    "from webdriver_manager.chrome import ChromeDriverManager\n",
    "service = Service(executable_path=ChromeDriverManager().install())\n",
    "driver = webdriver.Chrome(service = service)\n",
    "driver.get(\"https://datasus.saude.gov.br/transferencia-de-arquivos/\")\n",
    "driver.current_url"
   ]
  },
  {
   "cell_type": "code",
   "execution_count": 5,
   "id": "4635781a",
   "metadata": {
    "ExecuteTime": {
     "end_time": "2022-12-12T18:07:23.570277Z",
     "start_time": "2022-12-12T18:07:22.873274Z"
    }
   },
   "outputs": [],
   "source": [
    "clickmortalidade = driver.find_element(\n",
    "    By.XPATH, '//*[@id=\"mySelect\"]/option[12]')\n",
    "clickmortalidade.click()\n",
    "\n",
    "clickdados = driver.find_element(\n",
    "    By.XPATH, '//*[@id=\"modSelect\"]/option[2]')\n",
    "clickdados.click()\n",
    "\n",
    "clickdo = driver.find_element(\n",
    "    By.XPATH, '//*[@id=\"tipo_arquivo\"]/option[1]')\n",
    "clickdo.click()\n",
    "\n",
    "menuano = driver.find_element(\n",
    "    By.XPATH, '//*[@id=\"modAno\"]')\n",
    "\n",
    "for ano in menuano.find_elements(By.TAG_NAME, 'option'): #para limitar o for é só colocar [:n] depois do parenteses\n",
    "    ano.click()\n",
    "\n"
   ]
  },
  {
   "cell_type": "code",
   "execution_count": 7,
   "id": "1ec932ed",
   "metadata": {
    "ExecuteTime": {
     "end_time": "2022-12-12T18:11:40.491062Z",
     "start_time": "2022-12-12T18:11:37.485998Z"
    }
   },
   "outputs": [],
   "source": [
    "menuano = driver.find_element(\n",
    "    By.XPATH, '//*[@id=\"modAno\"]')\n",
    "\n",
    "for ano in menuano.find_elements(By.TAG_NAME, 'option'):\n",
    "    ano.click()"
   ]
  },
  {
   "cell_type": "code",
   "execution_count": 8,
   "id": "0d21472b",
   "metadata": {
    "ExecuteTime": {
     "end_time": "2022-12-12T18:14:04.552255Z",
     "start_time": "2022-12-12T18:14:04.367253Z"
    }
   },
   "outputs": [],
   "source": [
    "download = driver.find_element(\n",
    "    By.XPATH, '//*[@id=\"post-1492\"]/div/div/div/div/section[2]/div/div/div[2]/div/div/div/div/div/p[2]/a')\n",
    "download.click()"
   ]
  },
  {
   "cell_type": "code",
   "execution_count": null,
   "id": "e93978d0",
   "metadata": {},
   "outputs": [],
   "source": [
    "#falta colocar o download de todos os estados\n",
    "#para fazer o clicar no arquivo.zip, tenho que fazer um while \n",
    "#usar webdrive expliciatelly wait -- //*[@id=\"arquivo_compactado\"]/p/a"
   ]
  }
 ],
 "metadata": {
  "kernelspec": {
   "display_name": "Python 3 (ipykernel)",
   "language": "python",
   "name": "python3"
  },
  "language_info": {
   "codemirror_mode": {
    "name": "ipython",
    "version": 3
   },
   "file_extension": ".py",
   "mimetype": "text/x-python",
   "name": "python",
   "nbconvert_exporter": "python",
   "pygments_lexer": "ipython3",
   "version": "3.9.12"
  },
  "toc": {
   "base_numbering": 1,
   "nav_menu": {},
   "number_sections": true,
   "sideBar": true,
   "skip_h1_title": false,
   "title_cell": "Table of Contents",
   "title_sidebar": "Contents",
   "toc_cell": false,
   "toc_position": {},
   "toc_section_display": true,
   "toc_window_display": false
  },
  "varInspector": {
   "cols": {
    "lenName": 16,
    "lenType": 16,
    "lenVar": 40
   },
   "kernels_config": {
    "python": {
     "delete_cmd_postfix": "",
     "delete_cmd_prefix": "del ",
     "library": "var_list.py",
     "varRefreshCmd": "print(var_dic_list())"
    },
    "r": {
     "delete_cmd_postfix": ") ",
     "delete_cmd_prefix": "rm(",
     "library": "var_list.r",
     "varRefreshCmd": "cat(var_dic_list()) "
    }
   },
   "types_to_exclude": [
    "module",
    "function",
    "builtin_function_or_method",
    "instance",
    "_Feature"
   ],
   "window_display": false
  }
 },
 "nbformat": 4,
 "nbformat_minor": 5
}
